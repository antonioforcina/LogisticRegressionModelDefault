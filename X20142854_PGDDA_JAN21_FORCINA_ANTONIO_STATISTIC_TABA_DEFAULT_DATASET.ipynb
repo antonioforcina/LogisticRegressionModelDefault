{
 "cells": [
  {
   "cell_type": "markdown",
   "id": "dfbf12ce",
   "metadata": {
    "toc": true
   },
   "source": [
    "<h1>Table of Contents<span class=\"tocSkip\"></span></h1>\n",
    "<div class=\"toc\"><ul class=\"toc-item\"><li><span><a href=\"#Install-Packages\" data-toc-modified-id=\"Install-Packages-1\"><span class=\"toc-item-num\">1&nbsp;&nbsp;</span>Install Packages</a></span></li><li><span><a href=\"#Importing-Data\" data-toc-modified-id=\"Importing-Data-2\"><span class=\"toc-item-num\">2&nbsp;&nbsp;</span>Importing Data</a></span></li><li><span><a href=\"#Data-Analysis\" data-toc-modified-id=\"Data-Analysis-3\"><span class=\"toc-item-num\">3&nbsp;&nbsp;</span>Data Analysis</a></span></li><li><span><a href=\"#Logistic-Model\" data-toc-modified-id=\"Logistic-Model-4\"><span class=\"toc-item-num\">4&nbsp;&nbsp;</span>Logistic Model</a></span></li><li><span><a href=\"#Check-significance-of-indipendence\" data-toc-modified-id=\"Check-significance-of-indipendence-5\"><span class=\"toc-item-num\">5&nbsp;&nbsp;</span>Check significance of indipendence</a></span></li><li><span><a href=\"#Model-Evaluation\" data-toc-modified-id=\"Model-Evaluation-6\"><span class=\"toc-item-num\">6&nbsp;&nbsp;</span>Model Evaluation</a></span></li><li><span><a href=\"#Confusion-Matrix\" data-toc-modified-id=\"Confusion-Matrix-7\"><span class=\"toc-item-num\">7&nbsp;&nbsp;</span>Confusion Matrix</a></span></li><li><span><a href=\"#Prediction-Function\" data-toc-modified-id=\"Prediction-Function-8\"><span class=\"toc-item-num\">8&nbsp;&nbsp;</span>Prediction Function</a></span></li><li><span><a href=\"#Estimate-Probability\" data-toc-modified-id=\"Estimate-Probability-9\"><span class=\"toc-item-num\">9&nbsp;&nbsp;</span>Estimate Probability</a></span></li><li><span><a href=\"#Odds-Ratio\" data-toc-modified-id=\"Odds-Ratio-10\"><span class=\"toc-item-num\">10&nbsp;&nbsp;</span>Odds-Ratio</a></span></li><li><span><a href=\"#Determine-Cut-Off-point\" data-toc-modified-id=\"Determine-Cut-Off-point-11\"><span class=\"toc-item-num\">11&nbsp;&nbsp;</span>Determine Cut-Off point</a></span></li><li><span><a href=\"#ROC-Curve\" data-toc-modified-id=\"ROC-Curve-12\"><span class=\"toc-item-num\">12&nbsp;&nbsp;</span>ROC Curve</a></span></li><li><span><a href=\"#Source\" data-toc-modified-id=\"Source-13\"><span class=\"toc-item-num\">13&nbsp;&nbsp;</span>Source</a></span></li></ul></div>"
   ]
  },
  {
   "cell_type": "markdown",
   "id": "12e30f7d",
   "metadata": {},
   "source": [
    "# Install Packages"
   ]
  },
  {
   "cell_type": "code",
   "execution_count": 1,
   "id": "17664428",
   "metadata": {},
   "outputs": [
    {
     "name": "stderr",
     "output_type": "stream",
     "text": [
      "Installing package into 'C:/Users/anton/Documents/R/win-library/4.1'\n",
      "(as 'lib' is unspecified)\n",
      "\n"
     ]
    },
    {
     "name": "stdout",
     "output_type": "stream",
     "text": [
      "package 'ggcorrplot' successfully unpacked and MD5 sums checked\n",
      "\n",
      "The downloaded binary packages are in\n",
      "\tC:\\Users\\anton\\AppData\\Local\\Temp\\RtmpGOCm8a\\downloaded_packages\n"
     ]
    },
    {
     "name": "stderr",
     "output_type": "stream",
     "text": [
      "Warning message:\n",
      "\"package 'ggcorrplot' was built under R version 4.1.3\"\n",
      "Loading required package: ggplot2\n",
      "\n"
     ]
    }
   ],
   "source": [
    "install.packages('ggcorrplot')\n",
    "library(ggcorrplot)"
   ]
  },
  {
   "cell_type": "markdown",
   "id": "117c61a5",
   "metadata": {},
   "source": [
    "# Importing Data"
   ]
  },
  {
   "cell_type": "code",
   "execution_count": 2,
   "id": "bdc34176",
   "metadata": {},
   "outputs": [],
   "source": [
    "Data = read.csv(file= \"C:\\\\Users\\\\anton\\\\Desktop\\\\JupyterNotebook\\\\Statistics\\\\STATISTIC TABA\\\\Default.csv\",sep=\",\")"
   ]
  },
  {
   "cell_type": "code",
   "execution_count": 3,
   "id": "3d5410d8",
   "metadata": {},
   "outputs": [
    {
     "data": {
      "text/html": [
       "<table class=\"dataframe\">\n",
       "<caption>A data.frame: 6 × 10</caption>\n",
       "<thead>\n",
       "\t<tr><th></th><th scope=col>ï..gender</th><th scope=col>age</th><th scope=col>ed</th><th scope=col>retire</th><th scope=col>income</th><th scope=col>creddebt</th><th scope=col>othdebt</th><th scope=col>default</th><th scope=col>marital</th><th scope=col>homeown</th></tr>\n",
       "\t<tr><th></th><th scope=col>&lt;int&gt;</th><th scope=col>&lt;int&gt;</th><th scope=col>&lt;int&gt;</th><th scope=col>&lt;int&gt;</th><th scope=col>&lt;int&gt;</th><th scope=col>&lt;dbl&gt;</th><th scope=col>&lt;dbl&gt;</th><th scope=col>&lt;int&gt;</th><th scope=col>&lt;int&gt;</th><th scope=col>&lt;int&gt;</th></tr>\n",
       "</thead>\n",
       "<tbody>\n",
       "\t<tr><th scope=row>1</th><td>0</td><td>75</td><td>16</td><td>1</td><td>13</td><td>0.497250</td><td>0.828750</td><td>0</td><td>1</td><td>1</td></tr>\n",
       "\t<tr><th scope=row>2</th><td>1</td><td>63</td><td>13</td><td>1</td><td>55</td><td>1.390125</td><td>2.734875</td><td>0</td><td>1</td><td>1</td></tr>\n",
       "\t<tr><th scope=row>3</th><td>0</td><td>53</td><td>15</td><td>0</td><td>36</td><td>0.418644</td><td>0.625356</td><td>0</td><td>1</td><td>1</td></tr>\n",
       "\t<tr><th scope=row>4</th><td>1</td><td>61</td><td>16</td><td>0</td><td>33</td><td>0.075504</td><td>1.376496</td><td>0</td><td>0</td><td>1</td></tr>\n",
       "\t<tr><th scope=row>5</th><td>0</td><td>31</td><td>15</td><td>0</td><td>20</td><td>0.204680</td><td>2.175320</td><td>0</td><td>0</td><td>0</td></tr>\n",
       "\t<tr><th scope=row>6</th><td>1</td><td>46</td><td>10</td><td>0</td><td>54</td><td>0.754272</td><td>3.133728</td><td>0</td><td>0</td><td>1</td></tr>\n",
       "</tbody>\n",
       "</table>\n"
      ],
      "text/latex": [
       "A data.frame: 6 × 10\n",
       "\\begin{tabular}{r|llllllllll}\n",
       "  & ï..gender & age & ed & retire & income & creddebt & othdebt & default & marital & homeown\\\\\n",
       "  & <int> & <int> & <int> & <int> & <int> & <dbl> & <dbl> & <int> & <int> & <int>\\\\\n",
       "\\hline\n",
       "\t1 & 0 & 75 & 16 & 1 & 13 & 0.497250 & 0.828750 & 0 & 1 & 1\\\\\n",
       "\t2 & 1 & 63 & 13 & 1 & 55 & 1.390125 & 2.734875 & 0 & 1 & 1\\\\\n",
       "\t3 & 0 & 53 & 15 & 0 & 36 & 0.418644 & 0.625356 & 0 & 1 & 1\\\\\n",
       "\t4 & 1 & 61 & 16 & 0 & 33 & 0.075504 & 1.376496 & 0 & 0 & 1\\\\\n",
       "\t5 & 0 & 31 & 15 & 0 & 20 & 0.204680 & 2.175320 & 0 & 0 & 0\\\\\n",
       "\t6 & 1 & 46 & 10 & 0 & 54 & 0.754272 & 3.133728 & 0 & 0 & 1\\\\\n",
       "\\end{tabular}\n"
      ],
      "text/markdown": [
       "\n",
       "A data.frame: 6 × 10\n",
       "\n",
       "| <!--/--> | ï..gender &lt;int&gt; | age &lt;int&gt; | ed &lt;int&gt; | retire &lt;int&gt; | income &lt;int&gt; | creddebt &lt;dbl&gt; | othdebt &lt;dbl&gt; | default &lt;int&gt; | marital &lt;int&gt; | homeown &lt;int&gt; |\n",
       "|---|---|---|---|---|---|---|---|---|---|---|\n",
       "| 1 | 0 | 75 | 16 | 1 | 13 | 0.497250 | 0.828750 | 0 | 1 | 1 |\n",
       "| 2 | 1 | 63 | 13 | 1 | 55 | 1.390125 | 2.734875 | 0 | 1 | 1 |\n",
       "| 3 | 0 | 53 | 15 | 0 | 36 | 0.418644 | 0.625356 | 0 | 1 | 1 |\n",
       "| 4 | 1 | 61 | 16 | 0 | 33 | 0.075504 | 1.376496 | 0 | 0 | 1 |\n",
       "| 5 | 0 | 31 | 15 | 0 | 20 | 0.204680 | 2.175320 | 0 | 0 | 0 |\n",
       "| 6 | 1 | 46 | 10 | 0 | 54 | 0.754272 | 3.133728 | 0 | 0 | 1 |\n",
       "\n"
      ],
      "text/plain": [
       "  ï..gender age ed retire income creddebt othdebt  default marital homeown\n",
       "1 0         75  16 1      13     0.497250 0.828750 0       1       1      \n",
       "2 1         63  13 1      55     1.390125 2.734875 0       1       1      \n",
       "3 0         53  15 0      36     0.418644 0.625356 0       1       1      \n",
       "4 1         61  16 0      33     0.075504 1.376496 0       0       1      \n",
       "5 0         31  15 0      20     0.204680 2.175320 0       0       0      \n",
       "6 1         46  10 0      54     0.754272 3.133728 0       0       1      "
      ]
     },
     "metadata": {},
     "output_type": "display_data"
    }
   ],
   "source": [
    "head(Data)"
   ]
  },
  {
   "cell_type": "code",
   "execution_count": 4,
   "id": "8211dd71",
   "metadata": {},
   "outputs": [
    {
     "data": {
      "text/html": [
       "<style>\n",
       ".dl-inline {width: auto; margin:0; padding: 0}\n",
       ".dl-inline>dt, .dl-inline>dd {float: none; width: auto; display: inline-block}\n",
       ".dl-inline>dt::after {content: \":\\0020\"; padding-right: .5ex}\n",
       ".dl-inline>dt:not(:first-of-type) {padding-left: .5ex}\n",
       "</style><dl class=dl-inline><dt>ï..gender</dt><dd>0</dd><dt>age</dt><dd>0</dd><dt>ed</dt><dd>0</dd><dt>retire</dt><dd>0</dd><dt>income</dt><dd>0</dd><dt>creddebt</dt><dd>0</dd><dt>othdebt</dt><dd>0</dd><dt>default</dt><dd>0</dd><dt>marital</dt><dd>0</dd><dt>homeown</dt><dd>0</dd></dl>\n"
      ],
      "text/latex": [
       "\\begin{description*}\n",
       "\\item[ï..gender] 0\n",
       "\\item[age] 0\n",
       "\\item[ed] 0\n",
       "\\item[retire] 0\n",
       "\\item[income] 0\n",
       "\\item[creddebt] 0\n",
       "\\item[othdebt] 0\n",
       "\\item[default] 0\n",
       "\\item[marital] 0\n",
       "\\item[homeown] 0\n",
       "\\end{description*}\n"
      ],
      "text/markdown": [
       "ï..gender\n",
       ":   0age\n",
       ":   0ed\n",
       ":   0retire\n",
       ":   0income\n",
       ":   0creddebt\n",
       ":   0othdebt\n",
       ":   0default\n",
       ":   0marital\n",
       ":   0homeown\n",
       ":   0\n",
       "\n"
      ],
      "text/plain": [
       "ï..gender       age        ed    retire    income  creddebt   othdebt   default \n",
       "        0         0         0         0         0         0         0         0 \n",
       "  marital   homeown \n",
       "        0         0 "
      ]
     },
     "metadata": {},
     "output_type": "display_data"
    }
   ],
   "source": [
    "sapply(Data,function(x) sum(is.na(x)))"
   ]
  },
  {
   "cell_type": "code",
   "execution_count": 5,
   "id": "dbb99928",
   "metadata": {},
   "outputs": [],
   "source": [
    "colnames(Data)[1] <- \"gender\""
   ]
  },
  {
   "cell_type": "markdown",
   "id": "ecb9bb82",
   "metadata": {},
   "source": [
    "# Data Analysis "
   ]
  },
  {
   "cell_type": "code",
   "execution_count": 6,
   "id": "74b88139",
   "metadata": {},
   "outputs": [
    {
     "data": {
      "text/plain": [
       "     gender            age              ed            retire      \n",
       " Min.   :0.0000   Min.   :18.00   Min.   : 6.00   Min.   :0.0000  \n",
       " 1st Qu.:0.0000   1st Qu.:28.00   1st Qu.:12.00   1st Qu.:0.0000  \n",
       " Median :1.0000   Median :42.00   Median :15.00   Median :0.0000  \n",
       " Mean   :0.5175   Mean   :43.91   Mean   :14.76   Mean   :0.1136  \n",
       " 3rd Qu.:1.0000   3rd Qu.:58.00   3rd Qu.:17.00   3rd Qu.:0.0000  \n",
       " Max.   :1.0000   Max.   :79.00   Max.   :23.00   Max.   :1.0000  \n",
       "     income           creddebt            othdebt            default    \n",
       " Min.   :   9.00   Min.   :  0.00136   Min.   :  0.0167   Min.   :0.00  \n",
       " 1st Qu.:  23.00   1st Qu.:  0.42412   1st Qu.:  1.0539   1st Qu.:0.00  \n",
       " Median :  37.00   Median :  1.00036   Median :  2.1961   Median :0.00  \n",
       " Mean   :  54.69   Mean   :  2.20815   Mean   :  3.9295   Mean   :0.43  \n",
       " 3rd Qu.:  64.00   3rd Qu.:  2.27236   3rd Qu.:  4.6438   3rd Qu.:1.00  \n",
       " Max.   :1073.00   Max.   :109.07260   Max.   :141.4591   Max.   :1.00  \n",
       "    marital          homeown      \n",
       " Min.   :0.0000   Min.   :0.0000  \n",
       " 1st Qu.:0.0000   1st Qu.:0.0000  \n",
       " Median :0.0000   Median :1.0000  \n",
       " Mean   :0.4748   Mean   :0.6343  \n",
       " 3rd Qu.:1.0000   3rd Qu.:1.0000  \n",
       " Max.   :1.0000   Max.   :1.0000  "
      ]
     },
     "metadata": {},
     "output_type": "display_data"
    }
   ],
   "source": [
    "summary(Data)"
   ]
  },
  {
   "cell_type": "code",
   "execution_count": 7,
   "id": "66422806",
   "metadata": {},
   "outputs": [
    {
     "data": {
      "image/png": "[encoded data removed]",
      "text/plain": [
       "plot without title"
      ]
     },
     "metadata": {
      "image/png": {
       "height": 420,
       "width": 420
      }
     },
     "output_type": "display_data"
    }
   ],
   "source": [
    "IncomeDataCorr <- cor(Data, use = 'pairwise.complete.obs')\n",
    "ggcorrplot(IncomeDataCorr, title=\"NoOutliers1\", lab = TRUE)"
   ]
  },
  {
   "cell_type": "code",
   "execution_count": 8,
   "id": "2bcfafe9",
   "metadata": {},
   "outputs": [
    {
     "data": {
      "text/html": [
       "<table class=\"dataframe\">\n",
       "<caption>A data.frame: 6 × 10</caption>\n",
       "<thead>\n",
       "\t<tr><th></th><th scope=col>gender</th><th scope=col>age</th><th scope=col>ed</th><th scope=col>retire</th><th scope=col>income</th><th scope=col>creddebt</th><th scope=col>othdebt</th><th scope=col>default</th><th scope=col>marital</th><th scope=col>homeown</th></tr>\n",
       "\t<tr><th></th><th scope=col>&lt;int&gt;</th><th scope=col>&lt;int&gt;</th><th scope=col>&lt;int&gt;</th><th scope=col>&lt;int&gt;</th><th scope=col>&lt;int&gt;</th><th scope=col>&lt;dbl&gt;</th><th scope=col>&lt;dbl&gt;</th><th scope=col>&lt;int&gt;</th><th scope=col>&lt;int&gt;</th><th scope=col>&lt;int&gt;</th></tr>\n",
       "</thead>\n",
       "<tbody>\n",
       "\t<tr><th scope=row>1</th><td>0</td><td>75</td><td>16</td><td>1</td><td>13</td><td>0.497250</td><td>0.828750</td><td>0</td><td>1</td><td>1</td></tr>\n",
       "\t<tr><th scope=row>2</th><td>1</td><td>63</td><td>13</td><td>1</td><td>55</td><td>1.390125</td><td>2.734875</td><td>0</td><td>1</td><td>1</td></tr>\n",
       "\t<tr><th scope=row>3</th><td>0</td><td>53</td><td>15</td><td>0</td><td>36</td><td>0.418644</td><td>0.625356</td><td>0</td><td>1</td><td>1</td></tr>\n",
       "\t<tr><th scope=row>4</th><td>1</td><td>61</td><td>16</td><td>0</td><td>33</td><td>0.075504</td><td>1.376496</td><td>0</td><td>0</td><td>1</td></tr>\n",
       "\t<tr><th scope=row>5</th><td>0</td><td>31</td><td>15</td><td>0</td><td>20</td><td>0.204680</td><td>2.175320</td><td>0</td><td>0</td><td>0</td></tr>\n",
       "\t<tr><th scope=row>6</th><td>1</td><td>46</td><td>10</td><td>0</td><td>54</td><td>0.754272</td><td>3.133728</td><td>0</td><td>0</td><td>1</td></tr>\n",
       "</tbody>\n",
       "</table>\n"
      ],
      "text/latex": [
       "A data.frame: 6 × 10\n",
       "\\begin{tabular}{r|llllllllll}\n",
       "  & gender & age & ed & retire & income & creddebt & othdebt & default & marital & homeown\\\\\n",
       "  & <int> & <int> & <int> & <int> & <int> & <dbl> & <dbl> & <int> & <int> & <int>\\\\\n",
       "\\hline\n",
       "\t1 & 0 & 75 & 16 & 1 & 13 & 0.497250 & 0.828750 & 0 & 1 & 1\\\\\n",
       "\t2 & 1 & 63 & 13 & 1 & 55 & 1.390125 & 2.734875 & 0 & 1 & 1\\\\\n",
       "\t3 & 0 & 53 & 15 & 0 & 36 & 0.418644 & 0.625356 & 0 & 1 & 1\\\\\n",
       "\t4 & 1 & 61 & 16 & 0 & 33 & 0.075504 & 1.376496 & 0 & 0 & 1\\\\\n",
       "\t5 & 0 & 31 & 15 & 0 & 20 & 0.204680 & 2.175320 & 0 & 0 & 0\\\\\n",
       "\t6 & 1 & 46 & 10 & 0 & 54 & 0.754272 & 3.133728 & 0 & 0 & 1\\\\\n",
       "\\end{tabular}\n"
      ],
      "text/markdown": [
       "\n",
       "A data.frame: 6 × 10\n",
       "\n",
       "| <!--/--> | gender &lt;int&gt; | age &lt;int&gt; | ed &lt;int&gt; | retire &lt;int&gt; | income &lt;int&gt; | creddebt &lt;dbl&gt; | othdebt &lt;dbl&gt; | default &lt;int&gt; | marital &lt;int&gt; | homeown &lt;int&gt; |\n",
       "|---|---|---|---|---|---|---|---|---|---|---|\n",
       "| 1 | 0 | 75 | 16 | 1 | 13 | 0.497250 | 0.828750 | 0 | 1 | 1 |\n",
       "| 2 | 1 | 63 | 13 | 1 | 55 | 1.390125 | 2.734875 | 0 | 1 | 1 |\n",
       "| 3 | 0 | 53 | 15 | 0 | 36 | 0.418644 | 0.625356 | 0 | 1 | 1 |\n",
       "| 4 | 1 | 61 | 16 | 0 | 33 | 0.075504 | 1.376496 | 0 | 0 | 1 |\n",
       "| 5 | 0 | 31 | 15 | 0 | 20 | 0.204680 | 2.175320 | 0 | 0 | 0 |\n",
       "| 6 | 1 | 46 | 10 | 0 | 54 | 0.754272 | 3.133728 | 0 | 0 | 1 |\n",
       "\n"
      ],
      "text/plain": [
       "  gender age ed retire income creddebt othdebt  default marital homeown\n",
       "1 0      75  16 1      13     0.497250 0.828750 0       1       1      \n",
       "2 1      63  13 1      55     1.390125 2.734875 0       1       1      \n",
       "3 0      53  15 0      36     0.418644 0.625356 0       1       1      \n",
       "4 1      61  16 0      33     0.075504 1.376496 0       0       1      \n",
       "5 0      31  15 0      20     0.204680 2.175320 0       0       0      \n",
       "6 1      46  10 0      54     0.754272 3.133728 0       0       1      "
      ]
     },
     "metadata": {},
     "output_type": "display_data"
    }
   ],
   "source": [
    "#Data = subset(Data, select = -c(creddebt ,othdebt) )\n",
    "head(Data)"
   ]
  },
  {
   "cell_type": "code",
   "execution_count": 9,
   "id": "41962071",
   "metadata": {},
   "outputs": [
    {
     "data": {
      "image/png": "[encoded data removed]",
      "text/plain": [
       "Plot with title \"Income Data Boxplot\""
      ]
     },
     "metadata": {
      "image/png": {
       "height": 420,
       "width": 420
      }
     },
     "output_type": "display_data"
    }
   ],
   "source": [
    "boxplot(Data, main=\"Income Data Boxplot\")"
   ]
  },
  {
   "cell_type": "code",
   "execution_count": 10,
   "id": "8d42aa9b",
   "metadata": {},
   "outputs": [],
   "source": [
    "Data=subset(Data, income<=100)"
   ]
  },
  {
   "cell_type": "code",
   "execution_count": 11,
   "id": "08d63635",
   "metadata": {},
   "outputs": [
    {
     "data": {
      "image/png": "[encoded data removed]",
      "text/plain": [
       "Plot with title \"Default Data Boxplot\""
      ]
     },
     "metadata": {
      "image/png": {
       "height": 420,
       "width": 420
      }
     },
     "output_type": "display_data"
    }
   ],
   "source": [
    "boxplot(Data, main=\"Default Data Boxplot\")"
   ]
  },
  {
   "cell_type": "markdown",
   "id": "5041d395",
   "metadata": {},
   "source": [
    "# Logistic Model"
   ]
  },
  {
   "cell_type": "code",
   "execution_count": 12,
   "id": "8209ca5e",
   "metadata": {},
   "outputs": [
    {
     "data": {
      "text/plain": [
       "\n",
       "Call:\n",
       "glm(formula = default ~ gender + age + ed + retire + income + \n",
       "    marital + homeown + creddebt + othdebt, family = \"binomial\", \n",
       "    data = Data)\n",
       "\n",
       "Deviance Residuals: \n",
       "    Min       1Q   Median       3Q      Max  \n",
       "-2.2630  -0.7209  -0.2251   0.7877   2.7856  \n",
       "\n",
       "Coefficients:\n",
       "             Estimate Std. Error z value Pr(>|z|)    \n",
       "(Intercept)  1.900643   0.295449   6.433 1.25e-10 ***\n",
       "gender      -0.037799   0.104967  -0.360  0.71877    \n",
       "age         -0.079211   0.004904 -16.152  < 2e-16 ***\n",
       "ed           0.084018   0.017314   4.852 1.22e-06 ***\n",
       "retire      -0.493899   0.344591  -1.433  0.15178    \n",
       "income      -0.033661   0.003857  -8.728  < 2e-16 ***\n",
       "marital      0.008473   0.105776   0.080  0.93615    \n",
       "homeown     -0.336484   0.108504  -3.101  0.00193 ** \n",
       "creddebt     0.583602   0.046892  12.446  < 2e-16 ***\n",
       "othdebt      0.157020   0.024975   6.287 3.24e-10 ***\n",
       "---\n",
       "Signif. codes:  0 '***' 0.001 '**' 0.01 '*' 0.05 '.' 0.1 ' ' 1\n",
       "\n",
       "(Dispersion parameter for binomial family taken to be 1)\n",
       "\n",
       "    Null deviance: 3293.4  on 2407  degrees of freedom\n",
       "Residual deviance: 2236.6  on 2398  degrees of freedom\n",
       "AIC: 2256.6\n",
       "\n",
       "Number of Fisher Scoring iterations: 5\n"
      ]
     },
     "metadata": {},
     "output_type": "display_data"
    }
   ],
   "source": [
    "logit <- glm(default ~ gender + age + ed + retire + income + marital + homeown + creddebt + othdebt, data=Data, family='binomial')\n",
    "summary(logit)"
   ]
  },
  {
   "cell_type": "code",
   "execution_count": 13,
   "id": "edd2a0da",
   "metadata": {},
   "outputs": [
    {
     "data": {
      "text/html": [
       "<table class=\"dataframe\">\n",
       "<caption>A anova: 10 × 5</caption>\n",
       "<thead>\n",
       "\t<tr><th></th><th scope=col>Df</th><th scope=col>Deviance</th><th scope=col>Resid. Df</th><th scope=col>Resid. Dev</th><th scope=col>Pr(&gt;Chi)</th></tr>\n",
       "\t<tr><th></th><th scope=col>&lt;int&gt;</th><th scope=col>&lt;dbl&gt;</th><th scope=col>&lt;int&gt;</th><th scope=col>&lt;dbl&gt;</th><th scope=col>&lt;dbl&gt;</th></tr>\n",
       "</thead>\n",
       "<tbody>\n",
       "\t<tr><th scope=row>NULL</th><td>NA</td><td>          NA</td><td>2407</td><td>3293.380</td><td>           NA</td></tr>\n",
       "\t<tr><th scope=row>gender</th><td> 1</td><td>  0.06212489</td><td>2406</td><td>3293.318</td><td> 8.031685e-01</td></tr>\n",
       "\t<tr><th scope=row>age</th><td> 1</td><td>678.28713812</td><td>2405</td><td>2615.031</td><td>1.575487e-149</td></tr>\n",
       "\t<tr><th scope=row>ed</th><td> 1</td><td> 16.89926563</td><td>2404</td><td>2598.131</td><td> 3.941683e-05</td></tr>\n",
       "\t<tr><th scope=row>retire</th><td> 1</td><td>  5.71938525</td><td>2403</td><td>2592.412</td><td> 1.677860e-02</td></tr>\n",
       "\t<tr><th scope=row>income</th><td> 1</td><td>  0.07665836</td><td>2402</td><td>2592.335</td><td> 7.818780e-01</td></tr>\n",
       "\t<tr><th scope=row>marital</th><td> 1</td><td>  0.57838379</td><td>2401</td><td>2591.757</td><td> 4.469465e-01</td></tr>\n",
       "\t<tr><th scope=row>homeown</th><td> 1</td><td>  9.54925473</td><td>2400</td><td>2582.208</td><td> 2.000306e-03</td></tr>\n",
       "\t<tr><th scope=row>creddebt</th><td> 1</td><td>302.63253367</td><td>2399</td><td>2279.575</td><td> 8.795067e-68</td></tr>\n",
       "\t<tr><th scope=row>othdebt</th><td> 1</td><td> 43.01033246</td><td>2398</td><td>2236.565</td><td> 5.445153e-11</td></tr>\n",
       "</tbody>\n",
       "</table>\n"
      ],
      "text/latex": [
       "A anova: 10 × 5\n",
       "\\begin{tabular}{r|lllll}\n",
       "  & Df & Deviance & Resid. Df & Resid. Dev & Pr(>Chi)\\\\\n",
       "  & <int> & <dbl> & <int> & <dbl> & <dbl>\\\\\n",
       "\\hline\n",
       "\tNULL & NA &           NA & 2407 & 3293.380 &            NA\\\\\n",
       "\tgender &  1 &   0.06212489 & 2406 & 3293.318 &  8.031685e-01\\\\\n",
       "\tage &  1 & 678.28713812 & 2405 & 2615.031 & 1.575487e-149\\\\\n",
       "\ted &  1 &  16.89926563 & 2404 & 2598.131 &  3.941683e-05\\\\\n",
       "\tretire &  1 &   5.71938525 & 2403 & 2592.412 &  1.677860e-02\\\\\n",
       "\tincome &  1 &   0.07665836 & 2402 & 2592.335 &  7.818780e-01\\\\\n",
       "\tmarital &  1 &   0.57838379 & 2401 & 2591.757 &  4.469465e-01\\\\\n",
       "\thomeown &  1 &   9.54925473 & 2400 & 2582.208 &  2.000306e-03\\\\\n",
       "\tcreddebt &  1 & 302.63253367 & 2399 & 2279.575 &  8.795067e-68\\\\\n",
       "\tothdebt &  1 &  43.01033246 & 2398 & 2236.565 &  5.445153e-11\\\\\n",
       "\\end{tabular}\n"
      ],
      "text/markdown": [
       "\n",
       "A anova: 10 × 5\n",
       "\n",
       "| <!--/--> | Df &lt;int&gt; | Deviance &lt;dbl&gt; | Resid. Df &lt;int&gt; | Resid. Dev &lt;dbl&gt; | Pr(&gt;Chi) &lt;dbl&gt; |\n",
       "|---|---|---|---|---|---|\n",
       "| NULL | NA |           NA | 2407 | 3293.380 |            NA |\n",
       "| gender |  1 |   0.06212489 | 2406 | 3293.318 |  8.031685e-01 |\n",
       "| age |  1 | 678.28713812 | 2405 | 2615.031 | 1.575487e-149 |\n",
       "| ed |  1 |  16.89926563 | 2404 | 2598.131 |  3.941683e-05 |\n",
       "| retire |  1 |   5.71938525 | 2403 | 2592.412 |  1.677860e-02 |\n",
       "| income |  1 |   0.07665836 | 2402 | 2592.335 |  7.818780e-01 |\n",
       "| marital |  1 |   0.57838379 | 2401 | 2591.757 |  4.469465e-01 |\n",
       "| homeown |  1 |   9.54925473 | 2400 | 2582.208 |  2.000306e-03 |\n",
       "| creddebt |  1 | 302.63253367 | 2399 | 2279.575 |  8.795067e-68 |\n",
       "| othdebt |  1 |  43.01033246 | 2398 | 2236.565 |  5.445153e-11 |\n",
       "\n"
      ],
      "text/plain": [
       "         Df Deviance     Resid. Df Resid. Dev Pr(>Chi)     \n",
       "NULL     NA           NA 2407      3293.380              NA\n",
       "gender    1   0.06212489 2406      3293.318    8.031685e-01\n",
       "age       1 678.28713812 2405      2615.031   1.575487e-149\n",
       "ed        1  16.89926563 2404      2598.131    3.941683e-05\n",
       "retire    1   5.71938525 2403      2592.412    1.677860e-02\n",
       "income    1   0.07665836 2402      2592.335    7.818780e-01\n",
       "marital   1   0.57838379 2401      2591.757    4.469465e-01\n",
       "homeown   1   9.54925473 2400      2582.208    2.000306e-03\n",
       "creddebt  1 302.63253367 2399      2279.575    8.795067e-68\n",
       "othdebt   1  43.01033246 2398      2236.565    5.445153e-11"
      ]
     },
     "metadata": {},
     "output_type": "display_data"
    }
   ],
   "source": [
    "anova(logit, test=\"Chisq\")"
   ]
  },
  {
   "cell_type": "code",
   "execution_count": 14,
   "id": "7e0b2ac3",
   "metadata": {},
   "outputs": [
    {
     "data": {
      "text/plain": [
       "\n",
       "Call:\n",
       "glm(formula = default ~ gender + age + ed + retire + income + \n",
       "    marital + homeown, family = \"binomial\", data = Data)\n",
       "\n",
       "Deviance Residuals: \n",
       "    Min       1Q   Median       3Q      Max  \n",
       "-1.7970  -0.8899  -0.2955   0.8831   2.5802  \n",
       "\n",
       "Coefficients:\n",
       "             Estimate Std. Error z value Pr(>|z|)    \n",
       "(Intercept)  1.806294   0.275538   6.556 5.55e-11 ***\n",
       "gender      -0.018827   0.096255  -0.196 0.844927    \n",
       "age         -0.069089   0.004374 -15.794  < 2e-16 ***\n",
       "ed           0.060651   0.015710   3.861 0.000113 ***\n",
       "retire      -0.669917   0.329421  -2.034 0.041990 *  \n",
       "income       0.001299   0.002716   0.478 0.632546    \n",
       "marital     -0.035224   0.096990  -0.363 0.716477    \n",
       "homeown     -0.309418   0.100299  -3.085 0.002036 ** \n",
       "---\n",
       "Signif. codes:  0 '***' 0.001 '**' 0.01 '*' 0.05 '.' 0.1 ' ' 1\n",
       "\n",
       "(Dispersion parameter for binomial family taken to be 1)\n",
       "\n",
       "    Null deviance: 3293.4  on 2407  degrees of freedom\n",
       "Residual deviance: 2582.2  on 2400  degrees of freedom\n",
       "AIC: 2598.2\n",
       "\n",
       "Number of Fisher Scoring iterations: 5\n"
      ]
     },
     "metadata": {},
     "output_type": "display_data"
    }
   ],
   "source": [
    "logit <- glm(default ~ gender + age + ed + retire + income + marital + homeown, data=Data, family='binomial')\n",
    "summary(logit)"
   ]
  },
  {
   "cell_type": "code",
   "execution_count": 15,
   "id": "9e70c544",
   "metadata": {},
   "outputs": [
    {
     "data": {
      "text/plain": [
       "\n",
       "Call:\n",
       "glm(formula = default ~ gender + age + ed + retire + income + \n",
       "    homeown, family = \"binomial\", data = Data)\n",
       "\n",
       "Deviance Residuals: \n",
       "    Min       1Q   Median       3Q      Max  \n",
       "-1.7917  -0.8899  -0.2957   0.8800   2.5735  \n",
       "\n",
       "Coefficients:\n",
       "             Estimate Std. Error z value Pr(>|z|)    \n",
       "(Intercept)  1.792186   0.272703   6.572 4.97e-11 ***\n",
       "gender      -0.021637   0.095936  -0.226 0.821564    \n",
       "age         -0.069113   0.004373 -15.803  < 2e-16 ***\n",
       "ed           0.060793   0.015704   3.871 0.000108 ***\n",
       "retire      -0.669793   0.329362  -2.034 0.041992 *  \n",
       "income       0.001312   0.002715   0.483 0.628937    \n",
       "homeown     -0.313988   0.099501  -3.156 0.001601 ** \n",
       "---\n",
       "Signif. codes:  0 '***' 0.001 '**' 0.01 '*' 0.05 '.' 0.1 ' ' 1\n",
       "\n",
       "(Dispersion parameter for binomial family taken to be 1)\n",
       "\n",
       "    Null deviance: 3293.4  on 2407  degrees of freedom\n",
       "Residual deviance: 2582.3  on 2401  degrees of freedom\n",
       "AIC: 2596.3\n",
       "\n",
       "Number of Fisher Scoring iterations: 5\n"
      ]
     },
     "metadata": {},
     "output_type": "display_data"
    }
   ],
   "source": [
    "#remove marital\n",
    "logit <- glm(default ~ gender + age + ed + retire + income + homeown, data=Data, family='binomial')\n",
    "summary(logit)"
   ]
  },
  {
   "cell_type": "code",
   "execution_count": 16,
   "id": "c0ec93f3",
   "metadata": {},
   "outputs": [
    {
     "data": {
      "text/plain": [
       "\n",
       "Call:\n",
       "glm(formula = default ~ gender + age + ed + income + homeown, \n",
       "    family = \"binomial\", data = Data)\n",
       "\n",
       "Deviance Residuals: \n",
       "    Min       1Q   Median       3Q      Max  \n",
       "-1.8256  -0.8696  -0.3377   0.8764   2.4272  \n",
       "\n",
       "Coefficients:\n",
       "             Estimate Std. Error z value Pr(>|z|)    \n",
       "(Intercept)  1.897405   0.268772   7.060 1.67e-12 ***\n",
       "gender      -0.023212   0.096019  -0.242 0.808980    \n",
       "age         -0.074390   0.003643 -20.423  < 2e-16 ***\n",
       "ed           0.058885   0.015672   3.757 0.000172 ***\n",
       "income       0.003649   0.002472   1.476 0.139863    \n",
       "homeown     -0.310629   0.099539  -3.121 0.001804 ** \n",
       "---\n",
       "Signif. codes:  0 '***' 0.001 '**' 0.01 '*' 0.05 '.' 0.1 ' ' 1\n",
       "\n",
       "(Dispersion parameter for binomial family taken to be 1)\n",
       "\n",
       "    Null deviance: 3293.4  on 2407  degrees of freedom\n",
       "Residual deviance: 2586.8  on 2402  degrees of freedom\n",
       "AIC: 2598.8\n",
       "\n",
       "Number of Fisher Scoring iterations: 5\n"
      ]
     },
     "metadata": {},
     "output_type": "display_data"
    }
   ],
   "source": [
    "#remove retire\n",
    "logit <- glm(default ~ gender + age + ed + income + homeown, data=Data, family='binomial')\n",
    "summary(logit)"
   ]
  },
  {
   "cell_type": "code",
   "execution_count": 17,
   "id": "133d844a",
   "metadata": {},
   "outputs": [
    {
     "data": {
      "text/plain": [
       "\n",
       "Call:\n",
       "glm(formula = default ~ age + ed + income + homeown, family = \"binomial\", \n",
       "    data = Data)\n",
       "\n",
       "Deviance Residuals: \n",
       "    Min       1Q   Median       3Q      Max  \n",
       "-1.8204  -0.8670  -0.3378   0.8776   2.4325  \n",
       "\n",
       "Coefficients:\n",
       "             Estimate Std. Error z value Pr(>|z|)    \n",
       "(Intercept)  1.886966   0.265212   7.115 1.12e-12 ***\n",
       "age         -0.074395   0.003642 -20.426  < 2e-16 ***\n",
       "ed           0.058742   0.015660   3.751 0.000176 ***\n",
       "income       0.003672   0.002470   1.486 0.137156    \n",
       "homeown     -0.310984   0.099529  -3.125 0.001781 ** \n",
       "---\n",
       "Signif. codes:  0 '***' 0.001 '**' 0.01 '*' 0.05 '.' 0.1 ' ' 1\n",
       "\n",
       "(Dispersion parameter for binomial family taken to be 1)\n",
       "\n",
       "    Null deviance: 3293.4  on 2407  degrees of freedom\n",
       "Residual deviance: 2586.9  on 2403  degrees of freedom\n",
       "AIC: 2596.9\n",
       "\n",
       "Number of Fisher Scoring iterations: 5\n"
      ]
     },
     "metadata": {},
     "output_type": "display_data"
    }
   ],
   "source": [
    "#remove gender\n",
    "logit <- glm(default ~ age + ed + income + homeown, data=Data, family='binomial')\n",
    "summary(logit)"
   ]
  },
  {
   "cell_type": "code",
   "execution_count": 18,
   "id": "8f2d9b3a",
   "metadata": {},
   "outputs": [
    {
     "data": {
      "text/plain": [
       "\n",
       "Call:\n",
       "glm(formula = default ~ age + ed + homeown, family = \"binomial\", \n",
       "    data = Data)\n",
       "\n",
       "Deviance Residuals: \n",
       "    Min       1Q   Median       3Q      Max  \n",
       "-1.8023  -0.8644  -0.3570   0.8707   2.3638  \n",
       "\n",
       "Coefficients:\n",
       "             Estimate Std. Error z value Pr(>|z|)    \n",
       "(Intercept)  1.873597   0.264559   7.082 1.42e-12 ***\n",
       "age         -0.072514   0.003352 -21.630  < 2e-16 ***\n",
       "ed           0.064334   0.015205   4.231 2.33e-05 ***\n",
       "homeown     -0.299075   0.099198  -3.015  0.00257 ** \n",
       "---\n",
       "Signif. codes:  0 '***' 0.001 '**' 0.01 '*' 0.05 '.' 0.1 ' ' 1\n",
       "\n",
       "(Dispersion parameter for binomial family taken to be 1)\n",
       "\n",
       "    Null deviance: 3293.4  on 2407  degrees of freedom\n",
       "Residual deviance: 2589.1  on 2404  degrees of freedom\n",
       "AIC: 2597.1\n",
       "\n",
       "Number of Fisher Scoring iterations: 4\n"
      ]
     },
     "metadata": {},
     "output_type": "display_data"
    }
   ],
   "source": [
    "#remove income\n",
    "#final model\n",
    "logit <- glm(default ~ age + ed + homeown, data=Data, family='binomial')\n",
    "summary(logit)"
   ]
  },
  {
   "cell_type": "code",
   "execution_count": 19,
   "id": "9c07dc13",
   "metadata": {},
   "outputs": [
    {
     "data": {
      "text/html": [
       "0.726744186046512"
      ],
      "text/latex": [
       "0.726744186046512"
      ],
      "text/markdown": [
       "0.726744186046512"
      ],
      "text/plain": [
       "[1] 0.7267442"
      ]
     },
     "metadata": {},
     "output_type": "display_data"
    }
   ],
   "source": [
    "actual <- Data$default\n",
    "predicted <- round(fitted(logit))\n",
    "xt <- xtabs(~ actual + predicted)\n",
    "accuracy <- (xt[1,1]+xt[2,2])/sum(xt)\n",
    "accuracy"
   ]
  },
  {
   "cell_type": "markdown",
   "id": "0e94d634",
   "metadata": {},
   "source": [
    "# Check significance of indipendence"
   ]
  },
  {
   "cell_type": "code",
   "execution_count": 20,
   "id": "252d7865",
   "metadata": {},
   "outputs": [],
   "source": [
    "summary <- summary(logit)"
   ]
  },
  {
   "cell_type": "code",
   "execution_count": 21,
   "id": "2601fd0e",
   "metadata": {},
   "outputs": [
    {
     "data": {
      "text/html": [
       "<style>\n",
       ".list-inline {list-style: none; margin:0; padding: 0}\n",
       ".list-inline>li {display: inline-block}\n",
       ".list-inline>li:not(:last-child)::after {content: \"\\00b7\"; padding: 0 .5ex}\n",
       "</style>\n",
       "<ol class=list-inline><li>'call'</li><li>'terms'</li><li>'family'</li><li>'deviance'</li><li>'aic'</li><li>'contrasts'</li><li>'df.residual'</li><li>'null.deviance'</li><li>'df.null'</li><li>'iter'</li><li>'deviance.resid'</li><li>'coefficients'</li><li>'aliased'</li><li>'dispersion'</li><li>'df'</li><li>'cov.unscaled'</li><li>'cov.scaled'</li></ol>\n"
      ],
      "text/latex": [
       "\\begin{enumerate*}\n",
       "\\item 'call'\n",
       "\\item 'terms'\n",
       "\\item 'family'\n",
       "\\item 'deviance'\n",
       "\\item 'aic'\n",
       "\\item 'contrasts'\n",
       "\\item 'df.residual'\n",
       "\\item 'null.deviance'\n",
       "\\item 'df.null'\n",
       "\\item 'iter'\n",
       "\\item 'deviance.resid'\n",
       "\\item 'coefficients'\n",
       "\\item 'aliased'\n",
       "\\item 'dispersion'\n",
       "\\item 'df'\n",
       "\\item 'cov.unscaled'\n",
       "\\item 'cov.scaled'\n",
       "\\end{enumerate*}\n"
      ],
      "text/markdown": [
       "1. 'call'\n",
       "2. 'terms'\n",
       "3. 'family'\n",
       "4. 'deviance'\n",
       "5. 'aic'\n",
       "6. 'contrasts'\n",
       "7. 'df.residual'\n",
       "8. 'null.deviance'\n",
       "9. 'df.null'\n",
       "10. 'iter'\n",
       "11. 'deviance.resid'\n",
       "12. 'coefficients'\n",
       "13. 'aliased'\n",
       "14. 'dispersion'\n",
       "15. 'df'\n",
       "16. 'cov.unscaled'\n",
       "17. 'cov.scaled'\n",
       "\n",
       "\n"
      ],
      "text/plain": [
       " [1] \"call\"           \"terms\"          \"family\"         \"deviance\"      \n",
       " [5] \"aic\"            \"contrasts\"      \"df.residual\"    \"null.deviance\" \n",
       " [9] \"df.null\"        \"iter\"           \"deviance.resid\" \"coefficients\"  \n",
       "[13] \"aliased\"        \"dispersion\"     \"df\"             \"cov.unscaled\"  \n",
       "[17] \"cov.scaled\"    "
      ]
     },
     "metadata": {},
     "output_type": "display_data"
    }
   ],
   "source": [
    "names(summary)"
   ]
  },
  {
   "cell_type": "code",
   "execution_count": 22,
   "id": "1ba5d988",
   "metadata": {},
   "outputs": [
    {
     "data": {
      "text/html": [
       "<table class=\"dataframe\">\n",
       "<caption>A matrix: 4 × 4 of type dbl</caption>\n",
       "<thead>\n",
       "\t<tr><th></th><th scope=col>Estimate</th><th scope=col>Std. Error</th><th scope=col>z value</th><th scope=col>Pr(&gt;|z|)</th></tr>\n",
       "</thead>\n",
       "<tbody>\n",
       "\t<tr><th scope=row>(Intercept)</th><td> 1.87359666</td><td>0.264559029</td><td>  7.081961</td><td> 1.421289e-12</td></tr>\n",
       "\t<tr><th scope=row>age</th><td>-0.07251362</td><td>0.003352412</td><td>-21.630281</td><td>9.321337e-104</td></tr>\n",
       "\t<tr><th scope=row>ed</th><td> 0.06433393</td><td>0.015205328</td><td>  4.231012</td><td> 2.326419e-05</td></tr>\n",
       "\t<tr><th scope=row>homeown</th><td>-0.29907535</td><td>0.099197579</td><td> -3.014946</td><td> 2.570249e-03</td></tr>\n",
       "</tbody>\n",
       "</table>\n"
      ],
      "text/latex": [
       "A matrix: 4 × 4 of type dbl\n",
       "\\begin{tabular}{r|llll}\n",
       "  & Estimate & Std. Error & z value & Pr(>\\textbar{}z\\textbar{})\\\\\n",
       "\\hline\n",
       "\t(Intercept) &  1.87359666 & 0.264559029 &   7.081961 &  1.421289e-12\\\\\n",
       "\tage & -0.07251362 & 0.003352412 & -21.630281 & 9.321337e-104\\\\\n",
       "\ted &  0.06433393 & 0.015205328 &   4.231012 &  2.326419e-05\\\\\n",
       "\thomeown & -0.29907535 & 0.099197579 &  -3.014946 &  2.570249e-03\\\\\n",
       "\\end{tabular}\n"
      ],
      "text/markdown": [
       "\n",
       "A matrix: 4 × 4 of type dbl\n",
       "\n",
       "| <!--/--> | Estimate | Std. Error | z value | Pr(&gt;|z|) |\n",
       "|---|---|---|---|---|\n",
       "| (Intercept) |  1.87359666 | 0.264559029 |   7.081961 |  1.421289e-12 |\n",
       "| age | -0.07251362 | 0.003352412 | -21.630281 | 9.321337e-104 |\n",
       "| ed |  0.06433393 | 0.015205328 |   4.231012 |  2.326419e-05 |\n",
       "| homeown | -0.29907535 | 0.099197579 |  -3.014946 |  2.570249e-03 |\n",
       "\n"
      ],
      "text/plain": [
       "            Estimate    Std. Error  z value    Pr(>|z|)     \n",
       "(Intercept)  1.87359666 0.264559029   7.081961  1.421289e-12\n",
       "age         -0.07251362 0.003352412 -21.630281 9.321337e-104\n",
       "ed           0.06433393 0.015205328   4.231012  2.326419e-05\n",
       "homeown     -0.29907535 0.099197579  -3.014946  2.570249e-03"
      ]
     },
     "metadata": {},
     "output_type": "display_data"
    }
   ],
   "source": [
    "summary$coefficients"
   ]
  },
  {
   "cell_type": "code",
   "execution_count": 23,
   "id": "b4190ade",
   "metadata": {},
   "outputs": [
    {
     "data": {
      "text/html": [
       "<style>\n",
       ".dl-inline {width: auto; margin:0; padding: 0}\n",
       ".dl-inline>dt, .dl-inline>dd {float: none; width: auto; display: inline-block}\n",
       ".dl-inline>dt::after {content: \":\\0020\"; padding-right: .5ex}\n",
       ".dl-inline>dt:not(:first-of-type) {padding-left: .5ex}\n",
       "</style><dl class=dl-inline><dt>(Intercept)</dt><dd>1.42128888267071e-12</dd><dt>age</dt><dd>9.32133701724697e-104</dd><dt>ed</dt><dd>2.32641941450513e-05</dd><dt>homeown</dt><dd>0.0025702494886628</dd></dl>\n"
      ],
      "text/latex": [
       "\\begin{description*}\n",
       "\\item[(Intercept)] 1.42128888267071e-12\n",
       "\\item[age] 9.32133701724697e-104\n",
       "\\item[ed] 2.32641941450513e-05\n",
       "\\item[homeown] 0.0025702494886628\n",
       "\\end{description*}\n"
      ],
      "text/markdown": [
       "(Intercept)\n",
       ":   1.42128888267071e-12age\n",
       ":   9.32133701724697e-104ed\n",
       ":   2.32641941450513e-05homeown\n",
       ":   0.0025702494886628\n",
       "\n"
      ],
      "text/plain": [
       "  (Intercept)           age            ed       homeown \n",
       " 1.421289e-12 9.321337e-104  2.326419e-05  2.570249e-03 "
      ]
     },
     "metadata": {},
     "output_type": "display_data"
    }
   ],
   "source": [
    "summary(logit)$coefficients[,4]"
   ]
  },
  {
   "cell_type": "code",
   "execution_count": 24,
   "id": "9f40d981",
   "metadata": {},
   "outputs": [],
   "source": [
    "significant <- function(alpha)\n",
    "{ all(summary(logit)$coefficients[,4]<alpha) }"
   ]
  },
  {
   "cell_type": "code",
   "execution_count": 25,
   "id": "cc70b5e2",
   "metadata": {},
   "outputs": [
    {
     "data": {
      "text/html": [
       "TRUE"
      ],
      "text/latex": [
       "TRUE"
      ],
      "text/markdown": [
       "TRUE"
      ],
      "text/plain": [
       "[1] TRUE"
      ]
     },
     "metadata": {},
     "output_type": "display_data"
    }
   ],
   "source": [
    "significant(0.05)"
   ]
  },
  {
   "cell_type": "code",
   "execution_count": 26,
   "id": "d6619f2e",
   "metadata": {},
   "outputs": [
    {
     "data": {
      "text/html": [
       "TRUE"
      ],
      "text/latex": [
       "TRUE"
      ],
      "text/markdown": [
       "TRUE"
      ],
      "text/plain": [
       "[1] TRUE"
      ]
     },
     "metadata": {},
     "output_type": "display_data"
    }
   ],
   "source": [
    "significant(0.01)"
   ]
  },
  {
   "cell_type": "code",
   "execution_count": 27,
   "id": "b9990b83",
   "metadata": {},
   "outputs": [
    {
     "data": {
      "text/html": [
       "TRUE"
      ],
      "text/latex": [
       "TRUE"
      ],
      "text/markdown": [
       "TRUE"
      ],
      "text/plain": [
       "[1] TRUE"
      ]
     },
     "metadata": {},
     "output_type": "display_data"
    }
   ],
   "source": [
    "significant(0.005)"
   ]
  },
  {
   "cell_type": "markdown",
   "id": "369cdf62",
   "metadata": {},
   "source": [
    "# Model Evaluation"
   ]
  },
  {
   "cell_type": "code",
   "execution_count": 28,
   "id": "786a12c0",
   "metadata": {},
   "outputs": [
    {
     "data": {
      "text/plain": [
       "      predicted\n",
       "actual    0    1\n",
       "     0 1006  362\n",
       "     1  296  744"
      ]
     },
     "metadata": {},
     "output_type": "display_data"
    }
   ],
   "source": [
    "actual <- Data$default\n",
    "predicted <- round(fitted(logit))\n",
    "xt <- xtabs(~ actual + predicted)\n",
    "xt"
   ]
  },
  {
   "cell_type": "code",
   "execution_count": 29,
   "id": "c6188243",
   "metadata": {},
   "outputs": [
    {
     "data": {
      "text/html": [
       "0.726744186046512"
      ],
      "text/latex": [
       "0.726744186046512"
      ],
      "text/markdown": [
       "0.726744186046512"
      ],
      "text/plain": [
       "[1] 0.7267442"
      ]
     },
     "metadata": {},
     "output_type": "display_data"
    }
   ],
   "source": [
    "accuracy <- (xt[1,1]+xt[2,2])/sum(xt)\n",
    "accuracy"
   ]
  },
  {
   "cell_type": "markdown",
   "id": "098f6bc9",
   "metadata": {},
   "source": [
    "# Prediction Function"
   ]
  },
  {
   "cell_type": "code",
   "execution_count": 30,
   "id": "740e91c8",
   "metadata": {},
   "outputs": [
    {
     "data": {
      "text/html": [
       "<style>\n",
       ".dl-inline {width: auto; margin:0; padding: 0}\n",
       ".dl-inline>dt, .dl-inline>dd {float: none; width: auto; display: inline-block}\n",
       ".dl-inline>dt::after {content: \":\\0020\"; padding-right: .5ex}\n",
       ".dl-inline>dt:not(:first-of-type) {padding-left: .5ex}\n",
       "</style><dl class=dl-inline><dt>(Intercept)</dt><dd>1.87359666397954</dd><dt>age</dt><dd>-0.0725136204343649</dd><dt>ed</dt><dd>0.0643339284431581</dd><dt>homeown</dt><dd>-0.299075351249349</dd></dl>\n"
      ],
      "text/latex": [
       "\\begin{description*}\n",
       "\\item[(Intercept)] 1.87359666397954\n",
       "\\item[age] -0.0725136204343649\n",
       "\\item[ed] 0.0643339284431581\n",
       "\\item[homeown] -0.299075351249349\n",
       "\\end{description*}\n"
      ],
      "text/markdown": [
       "(Intercept)\n",
       ":   1.87359666397954age\n",
       ":   -0.0725136204343649ed\n",
       ":   0.0643339284431581homeown\n",
       ":   -0.299075351249349\n",
       "\n"
      ],
      "text/plain": [
       "(Intercept)         age          ed     homeown \n",
       " 1.87359666 -0.07251362  0.06433393 -0.29907535 "
      ]
     },
     "metadata": {},
     "output_type": "display_data"
    }
   ],
   "source": [
    "coef(logit)"
   ]
  },
  {
   "cell_type": "code",
   "execution_count": 31,
   "id": "33778066",
   "metadata": {},
   "outputs": [
    {
     "data": {
      "text/html": [
       "<style>\n",
       ".dl-inline {width: auto; margin:0; padding: 0}\n",
       ".dl-inline>dt, .dl-inline>dd {float: none; width: auto; display: inline-block}\n",
       ".dl-inline>dt::after {content: \":\\0020\"; padding-right: .5ex}\n",
       ".dl-inline>dt:not(:first-of-type) {padding-left: .5ex}\n",
       "</style><dl class=dl-inline><dt>(Intercept)</dt><dd>6.5116746378672</dd><dt>age</dt><dd>0.930053078847092</dd><dt>ed</dt><dd>1.06644845678213</dd><dt>homeown</dt><dd>0.741503534112207</dd></dl>\n"
      ],
      "text/latex": [
       "\\begin{description*}\n",
       "\\item[(Intercept)] 6.5116746378672\n",
       "\\item[age] 0.930053078847092\n",
       "\\item[ed] 1.06644845678213\n",
       "\\item[homeown] 0.741503534112207\n",
       "\\end{description*}\n"
      ],
      "text/markdown": [
       "(Intercept)\n",
       ":   6.5116746378672age\n",
       ":   0.930053078847092ed\n",
       ":   1.06644845678213homeown\n",
       ":   0.741503534112207\n",
       "\n"
      ],
      "text/plain": [
       "(Intercept)         age          ed     homeown \n",
       "  6.5116746   0.9300531   1.0664485   0.7415035 "
      ]
     },
     "metadata": {},
     "output_type": "display_data"
    }
   ],
   "source": [
    "exp(coef(logit))"
   ]
  },
  {
   "cell_type": "code",
   "execution_count": 32,
   "id": "566c2b7b",
   "metadata": {},
   "outputs": [
    {
     "name": "stderr",
     "output_type": "stream",
     "text": [
      "Waiting for profiling to be done...\n",
      "\n"
     ]
    },
    {
     "data": {
      "text/html": [
       "<table class=\"dataframe\">\n",
       "<caption>A matrix: 4 × 3 of type dbl</caption>\n",
       "<thead>\n",
       "\t<tr><th></th><th scope=col>OR</th><th scope=col>2.5 %</th><th scope=col>97.5 %</th></tr>\n",
       "</thead>\n",
       "<tbody>\n",
       "\t<tr><th scope=row>(Intercept)</th><td>6.5116746</td><td>3.8882237</td><td>10.9728638</td></tr>\n",
       "\t<tr><th scope=row>age</th><td>0.9300531</td><td>0.9238544</td><td> 0.9360802</td></tr>\n",
       "\t<tr><th scope=row>ed</th><td>1.0664485</td><td>1.0352416</td><td> 1.0988490</td></tr>\n",
       "\t<tr><th scope=row>homeown</th><td>0.7415035</td><td>0.6102549</td><td> 0.9004129</td></tr>\n",
       "</tbody>\n",
       "</table>\n"
      ],
      "text/latex": [
       "A matrix: 4 × 3 of type dbl\n",
       "\\begin{tabular}{r|lll}\n",
       "  & OR & 2.5 \\% & 97.5 \\%\\\\\n",
       "\\hline\n",
       "\t(Intercept) & 6.5116746 & 3.8882237 & 10.9728638\\\\\n",
       "\tage & 0.9300531 & 0.9238544 &  0.9360802\\\\\n",
       "\ted & 1.0664485 & 1.0352416 &  1.0988490\\\\\n",
       "\thomeown & 0.7415035 & 0.6102549 &  0.9004129\\\\\n",
       "\\end{tabular}\n"
      ],
      "text/markdown": [
       "\n",
       "A matrix: 4 × 3 of type dbl\n",
       "\n",
       "| <!--/--> | OR | 2.5 % | 97.5 % |\n",
       "|---|---|---|---|\n",
       "| (Intercept) | 6.5116746 | 3.8882237 | 10.9728638 |\n",
       "| age | 0.9300531 | 0.9238544 |  0.9360802 |\n",
       "| ed | 1.0664485 | 1.0352416 |  1.0988490 |\n",
       "| homeown | 0.7415035 | 0.6102549 |  0.9004129 |\n",
       "\n"
      ],
      "text/plain": [
       "            OR        2.5 %     97.5 %    \n",
       "(Intercept) 6.5116746 3.8882237 10.9728638\n",
       "age         0.9300531 0.9238544  0.9360802\n",
       "ed          1.0664485 1.0352416  1.0988490\n",
       "homeown     0.7415035 0.6102549  0.9004129"
      ]
     },
     "metadata": {},
     "output_type": "display_data"
    }
   ],
   "source": [
    "exp(cbind(OR = coef(logit), confint(logit)))"
   ]
  },
  {
   "cell_type": "code",
   "execution_count": 33,
   "id": "57f5b677",
   "metadata": {},
   "outputs": [],
   "source": [
    "linpred <- function(age, ed, homeown)\n",
    "{\n",
    "    c <- coef(logit)\n",
    "    c[[1]]+c[[2]]*age+c[[3]]*ed+c[[4]]*homeown\n",
    "}"
   ]
  },
  {
   "cell_type": "code",
   "execution_count": 34,
   "id": "3b111cff",
   "metadata": {},
   "outputs": [],
   "source": [
    "pred <- function(age, ed, homeown)\n",
    "{\n",
    "    b <- exp(linpred(age, ed, homeown))\n",
    "    b/(1+b)\n",
    "}"
   ]
  },
  {
   "cell_type": "code",
   "execution_count": 35,
   "id": "29c4c27c",
   "metadata": {},
   "outputs": [
    {
     "data": {
      "text/html": [
       "0.726427298552628"
      ],
      "text/latex": [
       "0.726427298552628"
      ],
      "text/markdown": [
       "0.726427298552628"
      ],
      "text/plain": [
       "[1] 0.7264273"
      ]
     },
     "metadata": {},
     "output_type": "display_data"
    }
   ],
   "source": [
    "linpred(38, 25, 0)"
   ]
  },
  {
   "cell_type": "code",
   "execution_count": 36,
   "id": "67a6142d",
   "metadata": {},
   "outputs": [
    {
     "data": {
      "text/html": [
       "0.674020778738571"
      ],
      "text/latex": [
       "0.674020778738571"
      ],
      "text/markdown": [
       "0.674020778738571"
      ],
      "text/plain": [
       "[1] 0.6740208"
      ]
     },
     "metadata": {},
     "output_type": "display_data"
    }
   ],
   "source": [
    "pred(38, 25, 0)"
   ]
  },
  {
   "cell_type": "markdown",
   "id": "1958fbc8",
   "metadata": {},
   "source": [
    "# Estimate Probability"
   ]
  },
  {
   "cell_type": "code",
   "execution_count": 38,
   "id": "e2aefeca",
   "metadata": {},
   "outputs": [],
   "source": [
    "pred <- function(age, ed, homeown)\n",
    "{\n",
    "    c <- coef(logit)\n",
    "    b <- exp(c[[1]]+c[[2]]*age+c[[3]]*ed+c[[4]]*homeown)\n",
    "    b/(1+b)\n",
    "}"
   ]
  },
  {
   "cell_type": "code",
   "execution_count": 39,
   "id": "ed049870",
   "metadata": {},
   "outputs": [
    {
     "data": {
      "text/html": [
       "0.674020778738571"
      ],
      "text/latex": [
       "0.674020778738571"
      ],
      "text/markdown": [
       "0.674020778738571"
      ],
      "text/plain": [
       "[1] 0.6740208"
      ]
     },
     "metadata": {},
     "output_type": "display_data"
    }
   ],
   "source": [
    "pred(38, 25, 0)"
   ]
  },
  {
   "cell_type": "markdown",
   "id": "eddd684b",
   "metadata": {},
   "source": [
    "# Odds-Ratio"
   ]
  },
  {
   "cell_type": "code",
   "execution_count": 66,
   "id": "b189042c",
   "metadata": {},
   "outputs": [
    {
     "data": {
      "text/html": [
       "<strong>(Intercept):</strong> 6.5116746378672"
      ],
      "text/latex": [
       "\\textbf{(Intercept):} 6.5116746378672"
      ],
      "text/markdown": [
       "**(Intercept):** 6.5116746378672"
      ],
      "text/plain": [
       "(Intercept) \n",
       "   6.511675 "
      ]
     },
     "metadata": {},
     "output_type": "display_data"
    }
   ],
   "source": [
    "exp(coef(logit)[1])"
   ]
  },
  {
   "cell_type": "code",
   "execution_count": 41,
   "id": "551e8177",
   "metadata": {},
   "outputs": [],
   "source": [
    "# We see that the estimated odds ratio is 4.76 for the orientation program. This means that the odds of students who attended the orientation program continuing are 4.76 times greater than for students who did not attend the program."
   ]
  },
  {
   "cell_type": "code",
   "execution_count": 42,
   "id": "56bb39c1",
   "metadata": {},
   "outputs": [],
   "source": [
    "# Using the software output, the estimated odds ratio is 1.25. Because values of x are measured in hundreds of dollars, the estimated odds of signing up for payroll direct deposit for customers that have an average monthly balance of $600 is 1.25 times greater than the estimated odds of signing up for payroll direct deposit for customers that have an average monthly balance of $500. Moreover, this interpretation is true for any one hundred dollar increment in the average monthly balance."
   ]
  },
  {
   "cell_type": "markdown",
   "id": "9a99c4fd",
   "metadata": {},
   "source": [
    "# Determine Cut-Off point\n",
    "Suppose Community Bank only wants to contact customers who have a 0.50 or higher probability of signing up for direct payroll deposit. What is the average monthly balance required to achieve this level of probability?"
   ]
  },
  {
   "cell_type": "code",
   "execution_count": 43,
   "id": "14c0131b",
   "metadata": {},
   "outputs": [
    {
     "data": {
      "image/png": "[encoded data removed]",
      "text/plain": [
       "Plot with title \"\""
      ]
     },
     "metadata": {
      "image/png": {
       "height": 420,
       "width": 420
      }
     },
     "output_type": "display_data"
    },
    {
     "data": {
      "image/png": "[encoded data removed]",
      "text/plain": [
       "Plot with title \"\""
      ]
     },
     "metadata": {
      "image/png": {
       "height": 420,
       "width": 420
      }
     },
     "output_type": "display_data"
    },
    {
     "data": {
      "image/png": "[encoded data removed]",
      "text/plain": [
       "Plot with title \"\""
      ]
     },
     "metadata": {
      "image/png": {
       "height": 420,
       "width": 420
      }
     },
     "output_type": "display_data"
    },
    {
     "data": {
      "image/png": "[encoded data removed]",
      "text/plain": [
       "Plot with title \"\""
      ]
     },
     "metadata": {
      "image/png": {
       "height": 420,
       "width": 420
      }
     },
     "output_type": "display_data"
    }
   ],
   "source": [
    "plot(logit)"
   ]
  },
  {
   "cell_type": "markdown",
   "id": "4ebae4c2",
   "metadata": {},
   "source": [
    "# Source\n",
    "http://www.sthda.com/english/articles/36-classification-methods-essentials/151-logistic-regression-essentials-in-r/#:~:text=Logistic%20regression%20is%20used%20to,%2C%20diseased%20or%20non%2Ddiseased.\n",
    "for anova and deviance https://www.r-bloggers.com/2015/09/how-to-perform-a-logistic-regression-in-r/\n",
    "https://towardsdatascience.com/how-to-do-logistic-regression-in-r-456e9cfec7cd"
   ]
  }
 ],
 "metadata": {
  "kernelspec": {
   "display_name": "R",
   "language": "R",
   "name": "ir"
  },
  "language_info": {
   "codemirror_mode": "r",
   "file_extension": ".r",
   "mimetype": "text/x-r-source",
   "name": "R",
   "pygments_lexer": "r",
   "version": "4.1.2"
  },
  "toc": {
   "base_numbering": 1,
   "nav_menu": {},
   "number_sections": true,
   "sideBar": true,
   "skip_h1_title": false,
   "title_cell": "Table of Contents",
   "title_sidebar": "Contents",
   "toc_cell": true,
   "toc_position": {},
   "toc_section_display": true,
   "toc_window_display": false
  }
 },
 "nbformat": 4,
 "nbformat_minor": 5
}
